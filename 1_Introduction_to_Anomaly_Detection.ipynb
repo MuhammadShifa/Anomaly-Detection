{
  "nbformat": 4,
  "nbformat_minor": 0,
  "metadata": {
    "kernelspec": {
      "display_name": "Python 3",
      "language": "python",
      "name": "python3"
    },
    "language_info": {
      "codemirror_mode": {
        "name": "ipython",
        "version": 3
      },
      "file_extension": ".py",
      "mimetype": "text/x-python",
      "name": "python",
      "nbconvert_exporter": "python",
      "pygments_lexer": "ipython3",
      "version": "3.6.1"
    },
    "colab": {
      "name": "1 Introduction to Anomaly Detection.ipynb",
      "provenance": [],
      "collapsed_sections": []
    }
  },
  "cells": [
    {
      "cell_type": "markdown",
      "metadata": {
        "id": "hbJreuAjK8oN"
      },
      "source": [
        "## Introduction to Anamoly Detection\n",
        "\n",
        "\"Anomaly detection, also called outlier detection, is the identification of unexpected events, observations, or items that differ significantly from the norm.\"  OR\n",
        "\n",
        "Anomaly detection is any process that finds the outliers of a dataset; those items that don’t belong. These anomalies might point to unusual network traffic, uncover a sensor on the fritz, or simply identify data for cleaning, before analysis.\n",
        "\n",
        "\n",
        "Let's first create a dummy dataset for ourselves. The dataset will contain just two columns:\n",
        "\n",
        "* Name of the employees of an organization\n",
        "* Salaries of those employees (in USD) within a range of 1000 to 2500 (Monthly)\n",
        "\n",
        "For generating the names (and make them look like the real ones) we will use a Python library called Faker (read the documentation here). For generating salaries, we will use the good old numpy. After generating these, we will merge them in a pandas DataFrame. We are going to generate records for 100 employees. Let's begin."
      ]
    },
    {
      "cell_type": "code",
      "metadata": {
        "colab": {
          "base_uri": "https://localhost:8080/"
        },
        "id": "C9WqRr2aK8od",
        "outputId": "5488846e-54ea-4fa1-8dcd-8e77493fa16a"
      },
      "source": [
        "!pip install Faker"
      ],
      "execution_count": null,
      "outputs": [
        {
          "output_type": "stream",
          "text": [
            "Requirement already satisfied: Faker in /usr/local/lib/python3.6/dist-packages (5.0.1)\n",
            "Requirement already satisfied: text-unidecode==1.3 in /usr/local/lib/python3.6/dist-packages (from Faker) (1.3)\n",
            "Requirement already satisfied: python-dateutil>=2.4 in /usr/local/lib/python3.6/dist-packages (from Faker) (2.8.1)\n",
            "Requirement already satisfied: six>=1.5 in /usr/local/lib/python3.6/dist-packages (from python-dateutil>=2.4->Faker) (1.15.0)\n"
          ],
          "name": "stdout"
        }
      ]
    },
    {
      "cell_type": "code",
      "metadata": {
        "colab": {
          "base_uri": "https://localhost:8080/",
          "height": 359
        },
        "id": "q3foi6URK8og",
        "outputId": "c30760a7-7960-4606-cbcd-ef648df2e0a6"
      },
      "source": [
        "# Import the necessary package\n",
        "\n",
        "import pandas as pd\n",
        "import numpy as np\n",
        "import matplotlib.pyplot as plt\n",
        "from faker import Faker\n",
        "\n",
        "%matplotlib inline\n",
        "plt.style.use('ggplot')\n",
        "\n",
        "faker = Faker()\n",
        "\n",
        "# to ensure the result are reproducible\n",
        "Faker.seed(123)\n",
        "\n",
        "names_list = []\n",
        "\n",
        "# Generate the name of 100 Employee\n",
        "\n",
        "for _ in range(100):\n",
        "    names_list.append(faker.name())\n",
        "    \n",
        "salaries = []\n",
        "# to ensure the result are reproducible\n",
        "np.random.seed(321)\n",
        "#Generate the salray of employee between 1000 to 2500 USD\n",
        "\n",
        "for _ in range(100):\n",
        "    salary = np.random.randint(1000, 2500)\n",
        "    salaries.append(salary)\n",
        "\n",
        "# Create Pandas DataFrame\n",
        "\n",
        "salary_df = pd.DataFrame({\n",
        "    'Person': names_list,\n",
        "    'Salary (in USD)': salaries\n",
        "})\n",
        "    \n",
        "# Print subsection of dataframe (first 10)\n",
        "\n",
        "salary_df.head(10)\n",
        "    \n"
      ],
      "execution_count": null,
      "outputs": [
        {
          "output_type": "execute_result",
          "data": {
            "text/html": [
              "<div>\n",
              "<style scoped>\n",
              "    .dataframe tbody tr th:only-of-type {\n",
              "        vertical-align: middle;\n",
              "    }\n",
              "\n",
              "    .dataframe tbody tr th {\n",
              "        vertical-align: top;\n",
              "    }\n",
              "\n",
              "    .dataframe thead th {\n",
              "        text-align: right;\n",
              "    }\n",
              "</style>\n",
              "<table border=\"1\" class=\"dataframe\">\n",
              "  <thead>\n",
              "    <tr style=\"text-align: right;\">\n",
              "      <th></th>\n",
              "      <th>Person</th>\n",
              "      <th>Salary (in USD)</th>\n",
              "    </tr>\n",
              "  </thead>\n",
              "  <tbody>\n",
              "    <tr>\n",
              "      <th>0</th>\n",
              "      <td>Brandon Russell</td>\n",
              "      <td>2012</td>\n",
              "    </tr>\n",
              "    <tr>\n",
              "      <th>1</th>\n",
              "      <td>Steven Johnson</td>\n",
              "      <td>1538</td>\n",
              "    </tr>\n",
              "    <tr>\n",
              "      <th>2</th>\n",
              "      <td>Evelyn Christian</td>\n",
              "      <td>1124</td>\n",
              "    </tr>\n",
              "    <tr>\n",
              "      <th>3</th>\n",
              "      <td>George Cook</td>\n",
              "      <td>1799</td>\n",
              "    </tr>\n",
              "    <tr>\n",
              "      <th>4</th>\n",
              "      <td>Aaron Graham</td>\n",
              "      <td>2425</td>\n",
              "    </tr>\n",
              "    <tr>\n",
              "      <th>5</th>\n",
              "      <td>Kyle Jones</td>\n",
              "      <td>1168</td>\n",
              "    </tr>\n",
              "    <tr>\n",
              "      <th>6</th>\n",
              "      <td>Jerome Whitehead</td>\n",
              "      <td>2434</td>\n",
              "    </tr>\n",
              "    <tr>\n",
              "      <th>7</th>\n",
              "      <td>Charles Tyler</td>\n",
              "      <td>1984</td>\n",
              "    </tr>\n",
              "    <tr>\n",
              "      <th>8</th>\n",
              "      <td>Thomas Berry</td>\n",
              "      <td>1357</td>\n",
              "    </tr>\n",
              "    <tr>\n",
              "      <th>9</th>\n",
              "      <td>Ryan Mack</td>\n",
              "      <td>1328</td>\n",
              "    </tr>\n",
              "  </tbody>\n",
              "</table>\n",
              "</div>"
            ],
            "text/plain": [
              "             Person  Salary (in USD)\n",
              "0   Brandon Russell             2012\n",
              "1    Steven Johnson             1538\n",
              "2  Evelyn Christian             1124\n",
              "3       George Cook             1799\n",
              "4      Aaron Graham             2425\n",
              "5        Kyle Jones             1168\n",
              "6  Jerome Whitehead             2434\n",
              "7     Charles Tyler             1984\n",
              "8      Thomas Berry             1357\n",
              "9         Ryan Mack             1328"
            ]
          },
          "metadata": {
            "tags": []
          },
          "execution_count": 4
        }
      ]
    },
    {
      "cell_type": "markdown",
      "metadata": {
        "id": "PGM_8U_XK8oh"
      },
      "source": [
        "Let's now manually change the salary entries of two individuals. In reality, this can actually happen for a number of reasons such as the data recording, technical issue, or corrupted files etc."
      ]
    },
    {
      "cell_type": "code",
      "metadata": {
        "colab": {
          "base_uri": "https://localhost:8080/"
        },
        "id": "y7A16gyMK8oi",
        "outputId": "a71193f5-d99c-4fe3-d40c-6833733c5a18"
      },
      "source": [
        "salary_df.at[16,'Salary (in USD)'] = 30\n",
        "salary_df.at[70,'Salary (in USD)'] = 23\n",
        "\n",
        "# Verify if the salries were changed\n",
        "\n",
        "print(salary_df.iloc[16])\n",
        "print(salary_df.iloc[70])"
      ],
      "execution_count": null,
      "outputs": [
        {
          "output_type": "stream",
          "text": [
            "Person             Catherine Wilkins\n",
            "Salary (in USD)                   30\n",
            "Name: 16, dtype: object\n",
            "Person             James Rodriguez\n",
            "Salary (in USD)                 23\n",
            "Name: 70, dtype: object\n"
          ],
          "name": "stdout"
        }
      ]
    },
    {
      "cell_type": "markdown",
      "metadata": {
        "id": "OIRdMCw1K8oj"
      },
      "source": [
        "We now have a dataset to proceed with. We will start off our experiments just by looking at the dataset from a visual perspective and see if we can find the anomalies."
      ]
    },
    {
      "cell_type": "markdown",
      "metadata": {
        "id": "JRcuS1dXK8ok"
      },
      "source": [
        "## Seeing is believing: Detecting anomalies just by seeing\n",
        "\n",
        "Hint: Boxplots are great!\n",
        "\n",
        "Because we can find minimum, maximum, first quartile, 2nd,3rd quartile and median at one place"
      ]
    },
    {
      "cell_type": "code",
      "metadata": {
        "colab": {
          "base_uri": "https://localhost:8080/",
          "height": 265
        },
        "id": "gHkVudoUK8ol",
        "outputId": "b3ea8ce5-de66-48b7-96ca-147dba54588d"
      },
      "source": [
        "# Generate a boxplot\n",
        "\n",
        "salary_df['Salary (in USD)'].plot(kind = 'box')\n",
        "plt.show()\n"
      ],
      "execution_count": null,
      "outputs": [
        {
          "output_type": "display_data",
          "data": {
            "image/png": "[encoded data removed]",
            "text/plain": [
              "<Figure size 432x288 with 1 Axes>"
            ]
          },
          "metadata": {
            "tags": []
          }
        }
      ]
    },
    {
      "cell_type": "markdown",
      "metadata": {
        "id": "yQ30Bkt5K8om"
      },
      "source": [
        "Notice the tiny circle point in the bottom. You instantly get a feeling of something wrong in there as it deviates hugely from the rest of the data. Now, you decide to look at the data from another visual perspective i.e. in terms of histograms.\n",
        "\n",
        "How about histograms?\n",
        "\n",
        "Lets Generate"
      ]
    },
    {
      "cell_type": "code",
      "metadata": {
        "colab": {
          "base_uri": "https://localhost:8080/",
          "height": 265
        },
        "id": "XM0kLBzhK8on",
        "outputId": "f973d7b6-d4b4-49c3-ecb0-58b0a18d48e5"
      },
      "source": [
        "# Generate Histogram\n",
        "\n",
        "salary_df['Salary (in USD)'].plot(kind = 'hist')\n",
        "plt.show()"
      ],
      "execution_count": null,
      "outputs": [
        {
          "output_type": "display_data",
          "data": {
            "image/png": "[encoded data removed]",
            "text/plain": [
              "<Figure size 432x288 with 1 Axes>"
            ]
          },
          "metadata": {
            "tags": []
          }
        }
      ]
    },
    {
      "cell_type": "markdown",
      "metadata": {
        "id": "xHiJig7KK8on"
      },
      "source": [
        "In the above histogram plot also, we can see there's one particular bin that is just not right as it deviates hugely from the rest of the data \n",
        "\n",
        "\n",
        "So what might be an immediate way to confirm that the dataset contains anomalies? Let's take a look at the minimum and maximum values of the column Salary (in USD)."
      ]
    },
    {
      "cell_type": "code",
      "metadata": {
        "colab": {
          "base_uri": "https://localhost:8080/"
        },
        "id": "TymjCde4K8oo",
        "outputId": "b4ed48da-f723-4e1b-86d8-6913228d2cf4"
      },
      "source": [
        "# Minimum and Maximum salaries \n",
        "\n",
        "print('Minimum Salary: ', salary_df['Salary (in USD)'].min())\n",
        "print('Maximum Salary:', salary_df['Salary (in USD)'].max())"
      ],
      "execution_count": null,
      "outputs": [
        {
          "output_type": "stream",
          "text": [
            "Minimum Salary:  23\n",
            "Maximum Salary: 2496\n"
          ],
          "name": "stdout"
        }
      ]
    },
    {
      "cell_type": "markdown",
      "metadata": {
        "id": "hkKWEqp5K8op"
      },
      "source": [
        "Look at the minimum value. From the accounts department of this hypothetical organization, you got to know that the minimum salary of an employee there is $1000. But you found out something different. Hence, its worth enough to conclude that this is indeed an anomaly. Let's now try to look at the data from a different perspective other than just simply plotting it.\n",
        "\n",
        "Note: Although our dataset contains only one feature (i.e. Salary (in USD)) that contains anomalies in reality, there can be a lot of features which will have anomalies in them. Even there also, these little visualizations will help you a lot.\n",
        "\n",
        "## Clustering based approach for anomaly detection\n",
        "\n",
        "We have seen how clustering and anomaly detection are closely related but they serve different purposes. But clustering can be used for anomaly detection. In this approach, we start by grouping the similar kind of objects. Mathematically, this similarity is measured by distance measurement functions like Euclidean distance, Manhattan distance and so on. Euclidean distance is a very popular choice when choosing in between several distance measurement functions. Let's take a look at what Euclidean distance is all about.\n",
        "\n",
        "An extremely short note on Euclidean distance\n",
        "\n",
        "If there are n points on a two-dimensional space and their coordinates are denoted by(x_i, y_i), then the Euclidean distance between any two points((x1, y1) and(x2, y2)) on this space is given by:\n",
        "\n",
        "square root[(x1-x2)^2 + (y1-y2)^2]\n",
        "\n",
        "\n",
        "## K-Means clustering\n",
        "\n",
        "We are going to use K-Means clustering which will help us cluster the data points (salary values in our case). The implementation that we are going to be using for KMeans uses Euclidean distance internally. Let's get started."
      ]
    },
    {
      "cell_type": "code",
      "metadata": {
        "id": "4cXiK8AHK8oq"
      },
      "source": [
        "# Convert the salary value to a numpy array\n",
        "\n",
        "salary_raw = salary_df['Salary (in USD)'].values\n",
        "\n",
        "# For compatibitlity with scipy implementation\n",
        "salary_raw = salary_raw.reshape(-1, 1)\n",
        "salary_raw = salary_raw.astype('float64')\n",
        "\n",
        "# import kmeans from scipy\n",
        "from scipy.cluster.vq import kmeans\n",
        "\n",
        "# Specify the data and the number of cluster to kmeans\n",
        "\n",
        "centroid, avg_distance = kmeans(salary_raw, 4)"
      ],
      "execution_count": null,
      "outputs": []
    },
    {
      "cell_type": "markdown",
      "metadata": {
        "id": "YEjlb1b9K8or"
      },
      "source": [
        "In the above chunk of code, we fed the salary data points the kmeans(). We also specified the number of clusters to which we want to group the data points. centroids are the centroids generated by kmeans() and avg_distance is the averaged Euclidean distance between the data points fed and the centroids generated by kmeans().Let's assign the groups of the data points by calling the vq() method. It takes -\n",
        "\n",
        "* The data points\n",
        "* The centroid as generated by the clustering algorithm (kmeans() in our case)\n",
        "It then returns the groups (clusters) of the data points and the distances between the data points and its nearest groups."
      ]
    },
    {
      "cell_type": "code",
      "metadata": {
        "id": "tfMiZO-qK8os"
      },
      "source": [
        "# Get the Group(Cluster) and distance\n",
        "from scipy import cluster\n",
        "from scipy.cluster.vq import vq\n",
        "\n",
        "groups, cdist = cluster.vq.vq(salary_raw, centroid)"
      ],
      "execution_count": null,
      "outputs": []
    },
    {
      "cell_type": "markdown",
      "metadata": {
        "id": "-rxp-AaRK8ou"
      },
      "source": [
        "Let's now plot the groups we have got."
      ]
    },
    {
      "cell_type": "code",
      "metadata": {
        "colab": {
          "base_uri": "https://localhost:8080/",
          "height": 282
        },
        "id": "R4ZMV9qNK8ou",
        "outputId": "4eb460f6-d330-416a-88cf-67d35b15c6d6"
      },
      "source": [
        "plt.scatter(salary_raw, np.arange(0,100), c=(groups))\n",
        "plt.xlabel('Salary (in USD)')\n",
        "plt.ylabel('Indices')\n",
        "plt.show()\n"
      ],
      "execution_count": null,
      "outputs": [
        {
          "output_type": "display_data",
          "data": {
            "image/png": "[encoded data removed]",
            "text/plain": [
              "<Figure size 432x288 with 1 Axes>"
            ]
          },
          "metadata": {
            "tags": []
          }
        }
      ]
    },
    {
      "cell_type": "markdown",
      "metadata": {
        "id": "MKgjCWwEK8ov"
      },
      "source": [
        "Can you point to the anomalies? I bet you can! So a few things to consider before you fit the data to a machine learning model:\n",
        "\n",
        "* Investigate the data thoroughly - take a look at each of the features that the dataset contains and pay close attention to their summary statistics like mean, median.\n",
        "* Sometimes, it is easy for the eyes to generate a number of useful plots of the different features of the dataset (as shown in the above). Because with the plots in front of you, you instantly get to know about the presence of the weird values which may need further investigation.\n",
        "* See how the features are correlated to one another. This will in turn help you to select the most significant features from the dataset and to discard the redundant ones. \n",
        "\n",
        "The above method for anomaly detection is purely unsupervised in nature. If we had the class-labels of the data points, we could have easily converted this to a supervised learning problem, specifically a classification problem. Shall we extend this? Well, why not?\n",
        "\n",
        "## Anomaly detection as a classification problem\n",
        "\n",
        "To be able to treat the task of anomaly detection as a classification task, we need a labeled dataset. Let's give our existing dataset some labels.\n",
        "\n",
        "We will first assign all the entries to the class of 0 and then we will manually edit the labels for those two anomalies. We will keep these class labels in a column named class. The label for the anomalies will be 1 (and for the normal entries the labels will be 0)."
      ]
    },
    {
      "cell_type": "code",
      "metadata": {
        "colab": {
          "base_uri": "https://localhost:8080/",
          "height": 393
        },
        "id": "Ozl4PS9HK8ow",
        "outputId": "e1878bdf-13d3-45c1-e1b7-6fbbfc7281a5"
      },
      "source": [
        "# First assign all the instance to 0\n",
        "\n",
        "salary_df['Class'] = 0\n",
        "\n",
        "# Now manually changed the class label for anamoly to 1\n",
        "salary_df.at[16, 'Class'] = 1\n",
        "salary_df.at[70, 'Class'] = 1\n",
        "\n",
        "# Lets verify\n",
        "print(salary_df.iloc[16]['Class'])\n",
        "print(salary_df.iloc[70]['Class'])\n",
        "\n",
        "# Lets see last 10 observation / row\n",
        "\n",
        "salary_df.tail(10)"
      ],
      "execution_count": null,
      "outputs": [
        {
          "output_type": "stream",
          "text": [
            "1\n",
            "1\n"
          ],
          "name": "stdout"
        },
        {
          "output_type": "execute_result",
          "data": {
            "text/html": [
              "<div>\n",
              "<style scoped>\n",
              "    .dataframe tbody tr th:only-of-type {\n",
              "        vertical-align: middle;\n",
              "    }\n",
              "\n",
              "    .dataframe tbody tr th {\n",
              "        vertical-align: top;\n",
              "    }\n",
              "\n",
              "    .dataframe thead th {\n",
              "        text-align: right;\n",
              "    }\n",
              "</style>\n",
              "<table border=\"1\" class=\"dataframe\">\n",
              "  <thead>\n",
              "    <tr style=\"text-align: right;\">\n",
              "      <th></th>\n",
              "      <th>Person</th>\n",
              "      <th>Salary (in USD)</th>\n",
              "      <th>Class</th>\n",
              "    </tr>\n",
              "  </thead>\n",
              "  <tbody>\n",
              "    <tr>\n",
              "      <th>90</th>\n",
              "      <td>Andrea Ayers</td>\n",
              "      <td>1018</td>\n",
              "      <td>0</td>\n",
              "    </tr>\n",
              "    <tr>\n",
              "      <th>91</th>\n",
              "      <td>Rick Rodriguez</td>\n",
              "      <td>2155</td>\n",
              "      <td>0</td>\n",
              "    </tr>\n",
              "    <tr>\n",
              "      <th>92</th>\n",
              "      <td>Pamela Graham</td>\n",
              "      <td>1411</td>\n",
              "      <td>0</td>\n",
              "    </tr>\n",
              "    <tr>\n",
              "      <th>93</th>\n",
              "      <td>Johnny Lee</td>\n",
              "      <td>2246</td>\n",
              "      <td>0</td>\n",
              "    </tr>\n",
              "    <tr>\n",
              "      <th>94</th>\n",
              "      <td>David Johnson</td>\n",
              "      <td>2343</td>\n",
              "      <td>0</td>\n",
              "    </tr>\n",
              "    <tr>\n",
              "      <th>95</th>\n",
              "      <td>Angel Ho</td>\n",
              "      <td>2374</td>\n",
              "      <td>0</td>\n",
              "    </tr>\n",
              "    <tr>\n",
              "      <th>96</th>\n",
              "      <td>Matthew Payne</td>\n",
              "      <td>1994</td>\n",
              "      <td>0</td>\n",
              "    </tr>\n",
              "    <tr>\n",
              "      <th>97</th>\n",
              "      <td>Todd Cross</td>\n",
              "      <td>2372</td>\n",
              "      <td>0</td>\n",
              "    </tr>\n",
              "    <tr>\n",
              "      <th>98</th>\n",
              "      <td>Jessica Carter</td>\n",
              "      <td>1290</td>\n",
              "      <td>0</td>\n",
              "    </tr>\n",
              "    <tr>\n",
              "      <th>99</th>\n",
              "      <td>Brian Lambert</td>\n",
              "      <td>1341</td>\n",
              "      <td>0</td>\n",
              "    </tr>\n",
              "  </tbody>\n",
              "</table>\n",
              "</div>"
            ],
            "text/plain": [
              "            Person  Salary (in USD)  Class\n",
              "90    Andrea Ayers             1018      0\n",
              "91  Rick Rodriguez             2155      0\n",
              "92   Pamela Graham             1411      0\n",
              "93      Johnny Lee             2246      0\n",
              "94   David Johnson             2343      0\n",
              "95        Angel Ho             2374      0\n",
              "96   Matthew Payne             1994      0\n",
              "97      Todd Cross             2372      0\n",
              "98  Jessica Carter             1290      0\n",
              "99   Brian Lambert             1341      0"
            ]
          },
          "metadata": {
            "tags": []
          },
          "execution_count": 12
        }
      ]
    },
    {
      "cell_type": "markdown",
      "metadata": {
        "id": "7dFpNRVtK8ox"
      },
      "source": [
        "We now have a Binary Classification Task.\n",
        "We are going to use KNN-Classification method for this class\n",
        "Also, we are going to use a Python library called PyOD which is specifically developed for anomaly detection purposes.\n",
        "\n",
        "\"PyOD is a comprehensive and scalable Python toolkit for detecting outlying objects in multivariate data. This exciting yet challenging field is commonly referred as Outlier Detection or Anomaly Detection.\"\n",
        "\n",
        "The column Person is not at all useful for the model as it is nothing but a kind of identifier. Let's prepare the training data accordingly."
      ]
    },
    {
      "cell_type": "code",
      "metadata": {
        "colab": {
          "base_uri": "https://localhost:8080/"
        },
        "id": "vpKYAUZ6LsEx",
        "outputId": "b54c817c-a173-4d13-d627-8c2bbb60ab0a"
      },
      "source": [
        "!pip install pyod"
      ],
      "execution_count": null,
      "outputs": [
        {
          "output_type": "stream",
          "text": [
            "Requirement already satisfied: pyod in /usr/local/lib/python3.6/dist-packages (0.8.4)\n",
            "Requirement already satisfied: numpy>=1.13 in /usr/local/lib/python3.6/dist-packages (from pyod) (1.18.5)\n",
            "Requirement already satisfied: scikit-learn>=0.19.1 in /usr/local/lib/python3.6/dist-packages (from pyod) (0.22.2.post1)\n",
            "Requirement already satisfied: pandas>=0.25 in /usr/local/lib/python3.6/dist-packages (from pyod) (1.1.5)\n",
            "Requirement already satisfied: combo in /usr/local/lib/python3.6/dist-packages (from pyod) (0.1.1)\n",
            "Requirement already satisfied: scipy>=0.19.1 in /usr/local/lib/python3.6/dist-packages (from pyod) (1.4.1)\n",
            "Requirement already satisfied: six in /usr/local/lib/python3.6/dist-packages (from pyod) (1.15.0)\n",
            "Requirement already satisfied: joblib in /usr/local/lib/python3.6/dist-packages (from pyod) (0.17.0)\n",
            "Requirement already satisfied: matplotlib in /usr/local/lib/python3.6/dist-packages (from pyod) (3.2.2)\n",
            "Requirement already satisfied: statsmodels in /usr/local/lib/python3.6/dist-packages (from pyod) (0.10.2)\n",
            "Requirement already satisfied: numba>=0.35 in /usr/local/lib/python3.6/dist-packages (from pyod) (0.48.0)\n",
            "Requirement already satisfied: suod in /usr/local/lib/python3.6/dist-packages (from pyod) (0.0.4)\n",
            "Requirement already satisfied: python-dateutil>=2.7.3 in /usr/local/lib/python3.6/dist-packages (from pandas>=0.25->pyod) (2.8.1)\n",
            "Requirement already satisfied: pytz>=2017.2 in /usr/local/lib/python3.6/dist-packages (from pandas>=0.25->pyod) (2018.9)\n",
            "Requirement already satisfied: kiwisolver>=1.0.1 in /usr/local/lib/python3.6/dist-packages (from matplotlib->pyod) (1.3.1)\n",
            "Requirement already satisfied: pyparsing!=2.0.4,!=2.1.2,!=2.1.6,>=2.0.1 in /usr/local/lib/python3.6/dist-packages (from matplotlib->pyod) (2.4.7)\n",
            "Requirement already satisfied: cycler>=0.10 in /usr/local/lib/python3.6/dist-packages (from matplotlib->pyod) (0.10.0)\n",
            "Requirement already satisfied: patsy>=0.4.0 in /usr/local/lib/python3.6/dist-packages (from statsmodels->pyod) (0.5.1)\n",
            "Requirement already satisfied: setuptools in /usr/local/lib/python3.6/dist-packages (from numba>=0.35->pyod) (50.3.2)\n",
            "Requirement already satisfied: llvmlite<0.32.0,>=0.31.0dev0 in /usr/local/lib/python3.6/dist-packages (from numba>=0.35->pyod) (0.31.0)\n"
          ],
          "name": "stdout"
        }
      ]
    },
    {
      "cell_type": "code",
      "metadata": {
        "colab": {
          "base_uri": "https://localhost:8080/"
        },
        "id": "5wfD5wDMK8oy",
        "outputId": "7e21a347-6e06-4b35-ccb8-32cbe9e73ab9"
      },
      "source": [
        "# Import the knn from pyod model\n",
        "\n",
        "from pyod.models.knn import KNN\n",
        "\n",
        "# Segregate / seperate the salary and class values\n",
        "\n",
        "X = salary_df['Salary (in USD)'].values.reshape(-1,1)\n",
        "y = salary_df['Class'].values\n",
        "\n",
        "# Train KNN classifier\n",
        "\n",
        "clf = KNN(contamination = 0.02, n_neighbors = 5)\n",
        "clf.fit(X)\n"
      ],
      "execution_count": null,
      "outputs": [
        {
          "output_type": "execute_result",
          "data": {
            "text/plain": [
              "KNN(algorithm='auto', contamination=0.02, leaf_size=30, method='largest',\n",
              "  metric='minkowski', metric_params=None, n_jobs=1, n_neighbors=5, p=2,\n",
              "  radius=1.0)"
            ]
          },
          "metadata": {
            "tags": []
          },
          "execution_count": 17
        }
      ]
    },
    {
      "cell_type": "markdown",
      "metadata": {
        "id": "WztX-YfRK8oz"
      },
      "source": [
        "Let's discuss the two parameters we passed into KNN() -\n",
        "\n",
        "* contamination - the amount of anomalies in the data (in percentage) which for our case is 2/100 = 0.02\n",
        "* n_neighbors - number of neighbors to consider for measuring the proximity\n",
        "\n",
        "Let's now get the prediction labels on the training data and then get the outlier scores of the training data. The outlier scores of the training data. The higher the scores are, the more abnormal. This indicates the overall abnormality in the data. These handy features make PyOD a great utility for anomaly detection related tasks.\n",
        "\n",
        " Try to evaluate KNN() with respect to the training data. PyOD provides a handy function for this - evaluate_print()."
      ]
    },
    {
      "cell_type": "code",
      "metadata": {
        "colab": {
          "base_uri": "https://localhost:8080/"
        },
        "id": "ARbYMC4aK8o0",
        "outputId": "b10f0fd8-5ea4-4ba7-8a53-0ceab3587852"
      },
      "source": [
        "# Get the prediction label of training data\n",
        "\n",
        "y_train_pred = clf.labels_\n",
        "\n",
        "# Outlier Score\n",
        "y_train_score = clf.decision_scores_\n",
        "\n",
        "# Now Model Evaluation\n",
        "\n",
        "# for model evaluation we will import the utility function\n",
        "from pyod.utils import evaluate_print\n",
        "\n",
        "# Evaluate on the training data\n",
        "evaluate_print(KNN, y, y_train_score)"
      ],
      "execution_count": null,
      "outputs": [
        {
          "output_type": "stream",
          "text": [
            "<class 'pyod.models.knn.KNN'> ROC:1.0, precision @ rank n:1.0\n"
          ],
          "name": "stdout"
        }
      ]
    },
    {
      "cell_type": "markdown",
      "metadata": {
        "id": "pADYLyobK8o0"
      },
      "source": [
        "We see that the KNN() model was able to perform exceptionally good on the training data. It provides three metrics and their scores -\n",
        "\n",
        "* ROC\n",
        "* Precision along with a confidence rank\n",
        "\n",
        "\n",
        "Note: While detecting anomalies, we almost always consider ROC and Precision as it gives a much better idea about the model's performance. We have also seen its significance in the earlier sections.\n",
        "\n",
        "We don't have any test data. But we can generate a sample salary value, right?"
      ]
    },
    {
      "cell_type": "code",
      "metadata": {
        "colab": {
          "base_uri": "https://localhost:8080/"
        },
        "id": "ksBZKrgEK8o1",
        "outputId": "b803e4f4-36fd-4d6e-ae42-47731d7b7323"
      },
      "source": [
        "# Lets check a salay of $37 and $1589\n",
        "\n",
        "x_test = np.array([[37.]])\n",
        "\n",
        "print('Class for $37: ',clf.predict(x_test))\n",
        "\n",
        "x_test = np.array([[1589.]])\n",
        "\n",
        "print('Class for $1589: ',clf.predict(x_test))\n"
      ],
      "execution_count": null,
      "outputs": [
        {
          "output_type": "stream",
          "text": [
            "Class for $37:  [1]\n",
            "Class for $1589:  [0]\n"
          ],
          "name": "stdout"
        }
      ]
    },
    {
      "cell_type": "markdown",
      "metadata": {
        "id": "pAxDnF2GMwML"
      },
      "source": [
        "As the above result show correct prediction for unseen value.\r\n",
        "\r\n",
        "This was short introduction about Anomaly detection with a simple example. Hope this will help in complex problem."
      ]
    },
    {
      "cell_type": "code",
      "metadata": {
        "id": "Ucb3B0h4K8o2"
      },
      "source": [
        ""
      ],
      "execution_count": null,
      "outputs": []
    }
  ]
}